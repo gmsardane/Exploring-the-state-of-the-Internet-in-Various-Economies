{
 "cells": [
  {
   "cell_type": "markdown",
   "metadata": {},
   "source": [
    "# World Internet Status\n",
    "\n",
    "### This is an exploratory project that compares the internet speeds of various world economies. \n",
    "\n",
    "Economic data is in the form of per capita income from the [World Bank](http://databank.worldbank.org/data/reports.aspx?Code=NY.GDP.PCAP.CD&id=af3ce82b&report_name=Popular_indicators&populartype=series&ispopular=y#). Note that the World Bank data had gone through quite a lot of cleaning, including removing rows with non-NaN, non-numeric values, or any other values which don't play nice with Python.\n",
    "\n",
    "The internet speeds and users datasets are downloaded from [Akamai](https://www.akamai.com/us/en/our-thinking/state-of-the-internet-report/)."
   ]
  },
  {
   "cell_type": "markdown",
   "metadata": {},
   "source": [
    "### <center> I. Import Python Libraries </center></font>"
   ]
  },
  {
   "cell_type": "code",
   "execution_count": 3,
   "metadata": {
    "collapsed": true
   },
   "outputs": [],
   "source": [
    "%matplotlib inline\n",
    "import pandas as pd\n",
    "import numpy as np\n",
    "\n",
    "import matplotlib\n",
    "import matplotlib.pyplot as plt\n",
    "import matplotlib.gridspec as grd\n",
    "import matplotlib.ticker as tkr\n",
    "import matplotlib.font_manager as font_manager\n",
    "\n",
    "from matplotlib.ticker import AutoMinorLocator\n",
    "from matplotlib.ticker import FuncFormatter\n",
    "from matplotlib import rcParams\n",
    "\n",
    "#define plotter\n",
    "minorLocatorx   = AutoMinorLocator(10)\n",
    "minorLocatory   = AutoMinorLocator(4)\n",
    "matplotlib.rc('xtick', labelsize=16) \n",
    "matplotlib.rc('ytick', labelsize=16) \n",
    "matplotlib.rcParams['axes.linewidth'] = 2.\n",
    "plt.rcParams['axes.linewidth'] = 4\n",
    "plt.rc('font', family='serif')\n",
    "plt.rc('font', serif='Times New Roman') \n",
    "fig_size = plt.rcParams[\"figure.figsize\"]\n",
    "fig_size[0] = 15\n",
    "fig_size[1] = 9\n",
    "plt.rcParams[\"figure.figsize\"] = fig_size"
   ]
  },
  {
   "cell_type": "code",
   "execution_count": 4,
   "metadata": {
    "collapsed": true
   },
   "outputs": [],
   "source": [
    "# Try to make nice displays of Pandas tables.\n",
    "#Font style\n",
    "from IPython.core.display import HTML\n",
    "css = open('/Users/gmsardane/nikola-blog/stories/style-table.css').read() \\\n",
    "+ open('/Users/gmsardane/nikola-blog/stories/style-notebook.css').read()\n",
    "HTML('<style>{}</style>'.format(css));"
   ]
  },
  {
   "cell_type": "markdown",
   "metadata": {},
   "source": [
    "### <center> 2. Load in GDP per capita data. </center> </font>"
   ]
  },
  {
   "cell_type": "code",
   "execution_count": 5,
   "metadata": {
    "collapsed": false
   },
   "outputs": [
    {
     "data": {
      "text/html": [
       "<div>\n",
       "<table border=\"1\" class=\"dataframe\">\n",
       "  <thead>\n",
       "    <tr style=\"text-align: right;\">\n",
       "      <th></th>\n",
       "      <th>Country Name</th>\n",
       "      <th>Country Code</th>\n",
       "      <th>2000 [YR2000]</th>\n",
       "      <th>2001 [YR2001]</th>\n",
       "      <th>2002 [YR2002]</th>\n",
       "      <th>2003 [YR2003]</th>\n",
       "      <th>2004 [YR2004]</th>\n",
       "      <th>2005 [YR2005]</th>\n",
       "      <th>2006 [YR2006]</th>\n",
       "      <th>2007 [YR2007]</th>\n",
       "      <th>2008 [YR2008]</th>\n",
       "      <th>2009 [YR2009]</th>\n",
       "      <th>2010 [YR2010]</th>\n",
       "      <th>2011 [YR2011]</th>\n",
       "      <th>2012 [YR2012]</th>\n",
       "      <th>2013 [YR2013]</th>\n",
       "      <th>2014 [YR2014]</th>\n",
       "    </tr>\n",
       "  </thead>\n",
       "  <tbody>\n",
       "    <tr>\n",
       "      <th>0</th>\n",
       "      <td>Afghanistan</td>\n",
       "      <td>AFG</td>\n",
       "      <td>NaN</td>\n",
       "      <td>119.899037</td>\n",
       "      <td>192.153528</td>\n",
       "      <td>203.651041</td>\n",
       "      <td>224.914712</td>\n",
       "      <td>257.175795</td>\n",
       "      <td>280.245644</td>\n",
       "      <td>380.400955</td>\n",
       "      <td>384.131681</td>\n",
       "      <td>458.955782</td>\n",
       "      <td>569.940729</td>\n",
       "      <td>622.379654</td>\n",
       "      <td>690.842629</td>\n",
       "      <td>666.795051</td>\n",
       "      <td>633.569247</td>\n",
       "    </tr>\n",
       "    <tr>\n",
       "      <th>1</th>\n",
       "      <td>Albania</td>\n",
       "      <td>ALB</td>\n",
       "      <td>1175.788981</td>\n",
       "      <td>1326.970339</td>\n",
       "      <td>1453.642777</td>\n",
       "      <td>1890.681557</td>\n",
       "      <td>2416.588235</td>\n",
       "      <td>2709.142931</td>\n",
       "      <td>3005.012903</td>\n",
       "      <td>3603.013685</td>\n",
       "      <td>4370.539647</td>\n",
       "      <td>4114.136545</td>\n",
       "      <td>4094.358832</td>\n",
       "      <td>4437.811999</td>\n",
       "      <td>4247.485437</td>\n",
       "      <td>4411.258241</td>\n",
       "      <td>4564.390339</td>\n",
       "    </tr>\n",
       "    <tr>\n",
       "      <th>2</th>\n",
       "      <td>Algeria</td>\n",
       "      <td>DZA</td>\n",
       "      <td>1757.011974</td>\n",
       "      <td>1732.958517</td>\n",
       "      <td>1774.292021</td>\n",
       "      <td>2094.893302</td>\n",
       "      <td>2600.006520</td>\n",
       "      <td>3102.037384</td>\n",
       "      <td>3467.544740</td>\n",
       "      <td>3939.559939</td>\n",
       "      <td>4912.251941</td>\n",
       "      <td>3875.822095</td>\n",
       "      <td>4473.486446</td>\n",
       "      <td>5447.403976</td>\n",
       "      <td>5583.616160</td>\n",
       "      <td>5491.614414</td>\n",
       "      <td>5484.066806</td>\n",
       "    </tr>\n",
       "    <tr>\n",
       "      <th>3</th>\n",
       "      <td>American Samoa</td>\n",
       "      <td>ASM</td>\n",
       "      <td>NaN</td>\n",
       "      <td>NaN</td>\n",
       "      <td>NaN</td>\n",
       "      <td>NaN</td>\n",
       "      <td>NaN</td>\n",
       "      <td>NaN</td>\n",
       "      <td>NaN</td>\n",
       "      <td>NaN</td>\n",
       "      <td>NaN</td>\n",
       "      <td>NaN</td>\n",
       "      <td>NaN</td>\n",
       "      <td>NaN</td>\n",
       "      <td>NaN</td>\n",
       "      <td>NaN</td>\n",
       "      <td>NaN</td>\n",
       "    </tr>\n",
       "    <tr>\n",
       "      <th>4</th>\n",
       "      <td>Andorra</td>\n",
       "      <td>ADO</td>\n",
       "      <td>21432.960070</td>\n",
       "      <td>21897.662940</td>\n",
       "      <td>24175.372750</td>\n",
       "      <td>31742.992580</td>\n",
       "      <td>37235.450030</td>\n",
       "      <td>39990.330410</td>\n",
       "      <td>42417.229150</td>\n",
       "      <td>47253.529800</td>\n",
       "      <td>46735.999570</td>\n",
       "      <td>42701.447140</td>\n",
       "      <td>39639.386020</td>\n",
       "      <td>41630.052580</td>\n",
       "      <td>39666.369210</td>\n",
       "      <td>42806.522550</td>\n",
       "      <td>NaN</td>\n",
       "    </tr>\n",
       "  </tbody>\n",
       "</table>\n",
       "</div>"
      ],
      "text/plain": [
       "     Country Name Country Code  2000 [YR2000]  2001 [YR2001]  2002 [YR2002]  \\\n",
       "0     Afghanistan          AFG            NaN     119.899037     192.153528   \n",
       "1         Albania          ALB    1175.788981    1326.970339    1453.642777   \n",
       "2         Algeria          DZA    1757.011974    1732.958517    1774.292021   \n",
       "3  American Samoa          ASM            NaN            NaN            NaN   \n",
       "4         Andorra          ADO   21432.960070   21897.662940   24175.372750   \n",
       "\n",
       "   2003 [YR2003]  2004 [YR2004]  2005 [YR2005]  2006 [YR2006]  2007 [YR2007]  \\\n",
       "0     203.651041     224.914712     257.175795     280.245644     380.400955   \n",
       "1    1890.681557    2416.588235    2709.142931    3005.012903    3603.013685   \n",
       "2    2094.893302    2600.006520    3102.037384    3467.544740    3939.559939   \n",
       "3            NaN            NaN            NaN            NaN            NaN   \n",
       "4   31742.992580   37235.450030   39990.330410   42417.229150   47253.529800   \n",
       "\n",
       "   2008 [YR2008]  2009 [YR2009]  2010 [YR2010]  2011 [YR2011]  2012 [YR2012]  \\\n",
       "0     384.131681     458.955782     569.940729     622.379654     690.842629   \n",
       "1    4370.539647    4114.136545    4094.358832    4437.811999    4247.485437   \n",
       "2    4912.251941    3875.822095    4473.486446    5447.403976    5583.616160   \n",
       "3            NaN            NaN            NaN            NaN            NaN   \n",
       "4   46735.999570   42701.447140   39639.386020   41630.052580   39666.369210   \n",
       "\n",
       "   2013 [YR2013]  2014 [YR2014]  \n",
       "0     666.795051     633.569247  \n",
       "1    4411.258241    4564.390339  \n",
       "2    5491.614414    5484.066806  \n",
       "3            NaN            NaN  \n",
       "4   42806.522550            NaN  "
      ]
     },
     "execution_count": 5,
     "metadata": {},
     "output_type": "execute_result"
    }
   ],
   "source": [
    "## World GDP\n",
    "GDP = pd.read_csv('/Users/gmsardane/datascience_project/PhilippineInternetUsers/GDP_percapita.csv')\n",
    "#GDP = GDP.drop(GDP.columns[[0,1,3, -1]], axis=1)\n",
    "GDP = GDP.set_index(['Country Name','Country Code']).dropna()\n",
    "GDP = GDP.apply(pd.to_numeric, args=('coerce',))\n",
    "GDP = GDP.reset_index()\n",
    "year=[]\n",
    "t=list(GDP.keys())\n",
    "for word in t:\n",
    "    year.append(word.split()[0])\n",
    "GDP.head()"
   ]
  },
  {
   "cell_type": "markdown",
   "metadata": {},
   "source": [
    "### <center> Also load in the GDP ranking data. </center> </font>"
   ]
  },
  {
   "cell_type": "code",
   "execution_count": 8,
   "metadata": {
    "collapsed": false
   },
   "outputs": [
    {
     "data": {
      "text/html": [
       "<div>\n",
       "<table border=\"1\" class=\"dataframe\">\n",
       "  <thead>\n",
       "    <tr style=\"text-align: right;\">\n",
       "      <th></th>\n",
       "      <th>Country Code</th>\n",
       "      <th>Rank</th>\n",
       "      <th>Country</th>\n",
       "      <th>USD_GDP</th>\n",
       "    </tr>\n",
       "  </thead>\n",
       "  <tbody>\n",
       "    <tr>\n",
       "      <th>107</th>\n",
       "      <td>AFG</td>\n",
       "      <td>108</td>\n",
       "      <td>Afghanistan</td>\n",
       "      <td>20038</td>\n",
       "    </tr>\n",
       "    <tr>\n",
       "      <th>126</th>\n",
       "      <td>ALB</td>\n",
       "      <td>127</td>\n",
       "      <td>Albania</td>\n",
       "      <td>13212</td>\n",
       "    </tr>\n",
       "    <tr>\n",
       "      <th>48</th>\n",
       "      <td>DZA</td>\n",
       "      <td>49</td>\n",
       "      <td>Algeria</td>\n",
       "      <td>213518</td>\n",
       "    </tr>\n",
       "    <tr>\n",
       "      <th>161</th>\n",
       "      <td>ADO</td>\n",
       "      <td>162</td>\n",
       "      <td>Andorra</td>\n",
       "      <td>3249</td>\n",
       "    </tr>\n",
       "    <tr>\n",
       "      <th>57</th>\n",
       "      <td>AGO</td>\n",
       "      <td>58</td>\n",
       "      <td>Angola</td>\n",
       "      <td>138357</td>\n",
       "    </tr>\n",
       "  </tbody>\n",
       "</table>\n",
       "</div>"
      ],
      "text/plain": [
       "    Country Code  Rank      Country  USD_GDP\n",
       "107          AFG   108  Afghanistan    20038\n",
       "126          ALB   127      Albania    13212\n",
       "48           DZA    49      Algeria   213518\n",
       "161          ADO   162      Andorra     3249\n",
       "57           AGO    58       Angola   138357"
      ]
     },
     "execution_count": 8,
     "metadata": {},
     "output_type": "execute_result"
    }
   ],
   "source": [
    "## GDP Rank\n",
    "GDP_rank = pd.read_csv('GDP.csv')\n",
    "#GDP_rank = GDP_rank.set_index(['Country'])\n",
    "GDP_rank = GDP_rank.sort_values(['Country'])\n",
    "GDP_rank.head(5)"
   ]
  },
  {
   "cell_type": "markdown",
   "metadata": {},
   "source": [
    "### <center> 3. Loading the Internet user and speed data from varios nations. </center> </font>"
   ]
  },
  {
   "cell_type": "code",
   "execution_count": 9,
   "metadata": {
    "collapsed": false
   },
   "outputs": [
    {
     "data": {
      "text/html": [
       "<div>\n",
       "<table border=\"1\" class=\"dataframe\">\n",
       "  <thead>\n",
       "    <tr style=\"text-align: right;\">\n",
       "      <th></th>\n",
       "      <th>Region</th>\n",
       "      <th>Unique IPv4 Addresses</th>\n",
       "      <th>Average Connection Speed(Mbps)</th>\n",
       "      <th>Average Peak Connection Speed (Mbps)</th>\n",
       "      <th>Pct Above 4Mbps</th>\n",
       "      <th>Pct Above 10 Mbps</th>\n",
       "      <th>Pct Above 15 Mbps</th>\n",
       "    </tr>\n",
       "  </thead>\n",
       "  <tbody>\n",
       "    <tr>\n",
       "      <th>0</th>\n",
       "      <td>Argentina</td>\n",
       "      <td>8199701</td>\n",
       "      <td>4.7</td>\n",
       "      <td>28.5</td>\n",
       "      <td>46.0</td>\n",
       "      <td>4.4</td>\n",
       "      <td>0.7</td>\n",
       "    </tr>\n",
       "    <tr>\n",
       "      <th>1</th>\n",
       "      <td>Bolivia</td>\n",
       "      <td>279921</td>\n",
       "      <td>2.0</td>\n",
       "      <td>13.2</td>\n",
       "      <td>3.3</td>\n",
       "      <td>0.3</td>\n",
       "      <td>0.1</td>\n",
       "    </tr>\n",
       "    <tr>\n",
       "      <th>2</th>\n",
       "      <td>Brazil</td>\n",
       "      <td>47913625</td>\n",
       "      <td>4.1</td>\n",
       "      <td>30.3</td>\n",
       "      <td>39.0</td>\n",
       "      <td>2.9</td>\n",
       "      <td>0.8</td>\n",
       "    </tr>\n",
       "    <tr>\n",
       "      <th>3</th>\n",
       "      <td>Canada</td>\n",
       "      <td>14924241</td>\n",
       "      <td>13.1</td>\n",
       "      <td>54.9</td>\n",
       "      <td>88.0</td>\n",
       "      <td>49.0</td>\n",
       "      <td>27.0</td>\n",
       "    </tr>\n",
       "    <tr>\n",
       "      <th>4</th>\n",
       "      <td>Chile</td>\n",
       "      <td>4750333</td>\n",
       "      <td>6.1</td>\n",
       "      <td>44.7</td>\n",
       "      <td>67.0</td>\n",
       "      <td>10.0</td>\n",
       "      <td>2.7</td>\n",
       "    </tr>\n",
       "  </tbody>\n",
       "</table>\n",
       "</div>"
      ],
      "text/plain": [
       "      Region  Unique IPv4 Addresses  Average Connection Speed(Mbps)  \\\n",
       "0  Argentina                8199701                             4.7   \n",
       "1    Bolivia                 279921                             2.0   \n",
       "2     Brazil               47913625                             4.1   \n",
       "3     Canada               14924241                            13.1   \n",
       "4      Chile                4750333                             6.1   \n",
       "\n",
       "   Average Peak Connection Speed (Mbps)  Pct Above 4Mbps   Pct Above 10 Mbps  \\\n",
       "0                                  28.5             46.0                 4.4   \n",
       "1                                  13.2              3.3                 0.3   \n",
       "2                                  30.3             39.0                 2.9   \n",
       "3                                  54.9             88.0                49.0   \n",
       "4                                  44.7             67.0                10.0   \n",
       "\n",
       "    Pct Above 15 Mbps  \n",
       "0                 0.7  \n",
       "1                 0.1  \n",
       "2                 0.8  \n",
       "3                27.0  \n",
       "4                 2.7  "
      ]
     },
     "execution_count": 9,
     "metadata": {},
     "output_type": "execute_result"
    }
   ],
   "source": [
    "## Internet speed\n",
    "speed = pd.read_csv('WorldInternetSpeedQ42014.txt')\n",
    "#speed = speed.set_index('Region')\n",
    "#speed=speed.sort_index()\n",
    "speed.head()"
   ]
  },
  {
   "cell_type": "code",
   "execution_count": 10,
   "metadata": {
    "collapsed": false
   },
   "outputs": [
    {
     "data": {
      "text/html": [
       "<div>\n",
       "<table border=\"1\" class=\"dataframe\">\n",
       "  <thead>\n",
       "    <tr style=\"text-align: right;\">\n",
       "      <th></th>\n",
       "      <th>Country</th>\n",
       "      <th>Users</th>\n",
       "      <th>Penetration_percent</th>\n",
       "      <th>Population</th>\n",
       "      <th>Non-Users</th>\n",
       "      <th>Change_from_prev_yr_percent</th>\n",
       "      <th>Change_from_prev_yr_num</th>\n",
       "      <th>Population_Change_percent</th>\n",
       "    </tr>\n",
       "  </thead>\n",
       "  <tbody>\n",
       "    <tr>\n",
       "      <th>0</th>\n",
       "      <td>Afghanistan</td>\n",
       "      <td>2020998</td>\n",
       "      <td>6.4</td>\n",
       "      <td>31627506</td>\n",
       "      <td>29606508</td>\n",
       "      <td>11.6</td>\n",
       "      <td>210730</td>\n",
       "      <td>3.08</td>\n",
       "    </tr>\n",
       "    <tr>\n",
       "      <th>1</th>\n",
       "      <td>Albania</td>\n",
       "      <td>1736695</td>\n",
       "      <td>60.1</td>\n",
       "      <td>2889676</td>\n",
       "      <td>1152981</td>\n",
       "      <td>5.3</td>\n",
       "      <td>87459</td>\n",
       "      <td>0.22</td>\n",
       "    </tr>\n",
       "    <tr>\n",
       "      <th>2</th>\n",
       "      <td>Algeria</td>\n",
       "      <td>7043221</td>\n",
       "      <td>18.1</td>\n",
       "      <td>38934334</td>\n",
       "      <td>31891113</td>\n",
       "      <td>11.8</td>\n",
       "      <td>742509</td>\n",
       "      <td>1.96</td>\n",
       "    </tr>\n",
       "    <tr>\n",
       "      <th>3</th>\n",
       "      <td>Andorra</td>\n",
       "      <td>69802</td>\n",
       "      <td>95.9</td>\n",
       "      <td>72786</td>\n",
       "      <td>2984</td>\n",
       "      <td>-2.2</td>\n",
       "      <td>-1546</td>\n",
       "      <td>-4.11</td>\n",
       "    </tr>\n",
       "    <tr>\n",
       "      <th>4</th>\n",
       "      <td>Angola</td>\n",
       "      <td>5150772</td>\n",
       "      <td>21.3</td>\n",
       "      <td>24227524</td>\n",
       "      <td>19076752</td>\n",
       "      <td>15.0</td>\n",
       "      <td>672165</td>\n",
       "      <td>3.32</td>\n",
       "    </tr>\n",
       "  </tbody>\n",
       "</table>\n",
       "</div>"
      ],
      "text/plain": [
       "       Country    Users  Penetration_percent  Population  Non-Users  \\\n",
       "0  Afghanistan  2020998                  6.4    31627506   29606508   \n",
       "1      Albania  1736695                 60.1     2889676    1152981   \n",
       "2      Algeria  7043221                 18.1    38934334   31891113   \n",
       "3      Andorra    69802                 95.9       72786       2984   \n",
       "4       Angola  5150772                 21.3    24227524   19076752   \n",
       "\n",
       "   Change_from_prev_yr_percent  Change_from_prev_yr_num  \\\n",
       "0                         11.6                   210730   \n",
       "1                          5.3                    87459   \n",
       "2                         11.8                   742509   \n",
       "3                         -2.2                    -1546   \n",
       "4                         15.0                   672165   \n",
       "\n",
       "   Population_Change_percent  \n",
       "0                       3.08  \n",
       "1                       0.22  \n",
       "2                       1.96  \n",
       "3                      -4.11  \n",
       "4                       3.32  "
      ]
     },
     "execution_count": 10,
     "metadata": {},
     "output_type": "execute_result"
    }
   ],
   "source": [
    "## Internet users\n",
    "users = pd.read_csv('WorldInternetUsers2014.txt')\n",
    "users = users.drop(users.columns[[0]], axis=1)\n",
    "#users = users.set_index('Country')\n",
    "#users = users.sort_index()\n",
    "users.head(5)"
   ]
  },
  {
   "cell_type": "markdown",
   "metadata": {},
   "source": [
    "### <center> 3. Merging the economic and tech data. </center> </font>"
   ]
  },
  {
   "cell_type": "code",
   "execution_count": 21,
   "metadata": {
    "collapsed": false
   },
   "outputs": [
    {
     "name": "stdout",
     "output_type": "stream",
     "text": [
      "Index([u'Country', u'Users', u'Penetration_percent', u'Population',\n",
      "       u'Non-Users', u'Change_from_prev_yr_percent',\n",
      "       u'Change_from_prev_yr_num', u'Population_Change_percent',\n",
      "       u'Unique IPv4 Addresses', u'Average Connection Speed(Mbps)',\n",
      "       u'Average Peak Connection Speed (Mbps)', u'Pct Above 4Mbps',\n",
      "       u' Pct Above 10 Mbps', u' Pct Above 15 Mbps'],\n",
      "      dtype='object')\n"
     ]
    }
   ],
   "source": [
    "## Merging speeds and users data.\n",
    "dfMerged = pd.merge(users, speed, right_on=['Region'], left_on=['Country'], how='inner')\n",
    "dfMerged.drop('Region', axis=1, inplace=True)\n",
    "print dfMerged.keys()"
   ]
  },
  {
   "cell_type": "code",
   "execution_count": 22,
   "metadata": {
    "collapsed": false
   },
   "outputs": [
    {
     "name": "stdout",
     "output_type": "stream",
     "text": [
      "Index([u'Country', u'Users', u'Penetration_percent', u'Population',\n",
      "       u'Non-Users', u'Change_from_prev_yr_percent',\n",
      "       u'Change_from_prev_yr_num', u'Population_Change_percent',\n",
      "       u'Unique IPv4 Addresses', u'Average Connection Speed(Mbps)',\n",
      "       u'Average Peak Connection Speed (Mbps)', u'Pct Above 4Mbps',\n",
      "       u' Pct Above 10 Mbps', u' Pct Above 15 Mbps', u'Country Name',\n",
      "       u'Country Code', u'2000 [YR2000]', u'2001 [YR2001]', u'2002 [YR2002]',\n",
      "       u'2003 [YR2003]', u'2004 [YR2004]', u'2005 [YR2005]', u'2006 [YR2006]',\n",
      "       u'2007 [YR2007]', u'2008 [YR2008]', u'2009 [YR2009]', u'2010 [YR2010]',\n",
      "       u'2011 [YR2011]', u'2012 [YR2012]', u'2013 [YR2013]', u'2014 [YR2014]'],\n",
      "      dtype='object')\n",
      "\n",
      "\t \t \t There are 52 countries having both economic and tech data available.\n"
     ]
    }
   ],
   "source": [
    "## Merging tech data with economic data\n",
    "dfMerged = pd.merge(dfMerged, GDP, right_on=['Country Name'], left_on=['Country'], how='inner')\n",
    "print(dfMerged.keys())\n",
    "print \n",
    "print \"\\t \\t \\t There are {} countries having both economic and tech data available.\".format(len(dfMerged))"
   ]
  },
  {
   "cell_type": "code",
   "execution_count": 23,
   "metadata": {
    "collapsed": false
   },
   "outputs": [
    {
     "data": {
      "image/png": "[encoded data removed]",
      "text/plain": [
       "<matplotlib.figure.Figure at 0x110964710>"
      ]
     },
     "metadata": {},
     "output_type": "display_data"
    }
   ],
   "source": [
    "plt.scatter(dfMerged['2014 [YR2014]'], dfMerged['Penetration_percent'], \n",
    "            s = dfMerged['Average Peak Connection Speed (Mbps)']**1.50, alpha=0.35, \n",
    "            c='black', cmap = plt.get_cmap('Spectral'))\n",
    "ax = plt.gca()\n",
    "plt.xlabel('GDP [Per Capita, USD]', fontsize = 40)\n",
    "plt.ylabel('Internet Penetration Depth [%]', fontsize = 40)\n",
    "#plt.ylim(10, 100)\n",
    "plt.xlim(1e3, 120000)\n",
    "ax.minorticks_on()\n",
    "ax.tick_params(axis='both',color='k',length=8,width=2, labelsize=30)\n",
    "ax.tick_params(which='minor',axis='both', color='k',length=4,width=1)\n",
    "ax.set_xscale('log')\n",
    "\n",
    "for label, x, y in zip(dfMerged['Country Code'], dfMerged['2014 [YR2014]'], dfMerged['Penetration_percent']):\n",
    "    plt.annotate(\n",
    "        label, \n",
    "        xy = (x, y), xytext = (0, 0),\n",
    "        textcoords = 'offset points', ha = 'right', va = 'bottom',\n",
    "        bbox = dict(boxstyle = 'round,pad=0.55', fc = 'pink', alpha = 0.5))\n",
    "        #arrowprops = dict(arrowstyle = '->', connectionstyle = 'arc3,rad=0'))"
   ]
  },
  {
   "cell_type": "code",
   "execution_count": null,
   "metadata": {
    "collapsed": true
   },
   "outputs": [],
   "source": []
  }
 ],
 "metadata": {
  "kernelspec": {
   "display_name": "Python 2",
   "language": "python",
   "name": "python2"
  },
  "language_info": {
   "codemirror_mode": {
    "name": "ipython",
    "version": 2
   },
   "file_extension": ".py",
   "mimetype": "text/x-python",
   "name": "python",
   "nbconvert_exporter": "python",
   "pygments_lexer": "ipython2",
   "version": "2.7.6"
  }
 },
 "nbformat": 4,
 "nbformat_minor": 0
}
